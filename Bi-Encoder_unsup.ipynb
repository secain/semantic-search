{
 "cells": [
  {
   "cell_type": "code",
   "execution_count": 12,
   "id": "d8427992-4e80-4630-ae5e-221276c68369",
   "metadata": {},
   "outputs": [],
   "source": [
    "from torch.utils.data import DataLoader\n",
    "from sentence_transformers import SentenceTransformer, LoggingHandler, losses, models, util, InputExample\n",
    "from sentence_transformers.evaluation import TripletEvaluator\n",
    "import pandas as pd\n",
    "from datetime import datetime\n",
    "import logging\n",
    "import math\n",
    "import os\n",
    "import gzip\n",
    "import csv\n",
    "\n",
    "#### Just some code to print debug information to stdout\n",
    "logging.basicConfig(format='%(asctime)s - %(message)s',\n",
    "                    datefmt='%Y-%m-%d %H:%M:%S',\n",
    "                    level=logging.INFO,\n",
    "                    handlers=[LoggingHandler()])\n",
    "#### /print debug information to stdout\n",
    "\n",
    "#Check if dataset exsist. If not, download and extract  it\n",
    "model_name = './output/hfl_chinese-roberta-wwm-ext-2022-05-12'\n",
    "train_file = './train/train.json'\n",
    "\n",
    "# Read the dataset\n",
    "train_batch_size = 8\n",
    "num_epochs = 1\n",
    "model_save_path = 'output/bi-encoder-chinese-roberta-wwm-ext'+'-'+datetime.now().strftime(\"%Y-%m-%d_%H-%M-%S\")"
   ]
  },
  {
   "cell_type": "code",
   "execution_count": 6,
   "id": "3640d9df-3612-43b4-9c7a-7819317903b5",
   "metadata": {},
   "outputs": [
    {
     "name": "stderr",
     "output_type": "stream",
     "text": [
      "Some weights of the model checkpoint at ./output/hfl_chinese-roberta-wwm-ext-2022-05-12 were not used when initializing BertModel: ['cls.predictions.bias', 'cls.predictions.transform.dense.bias', 'cls.predictions.decoder.weight', 'cls.predictions.transform.LayerNorm.bias', 'cls.predictions.transform.LayerNorm.weight', 'cls.predictions.transform.dense.weight', 'cls.predictions.decoder.bias']\n",
      "- This IS expected if you are initializing BertModel from the checkpoint of a model trained on another task or with another architecture (e.g. initializing a BertForSequenceClassification model from a BertForPreTraining model).\n",
      "- This IS NOT expected if you are initializing BertModel from the checkpoint of a model that you expect to be exactly identical (initializing a BertForSequenceClassification model from a BertForSequenceClassification model).\n",
      "Some weights of BertModel were not initialized from the model checkpoint at ./output/hfl_chinese-roberta-wwm-ext-2022-05-12 and are newly initialized: ['bert.pooler.dense.weight', 'bert.pooler.dense.bias']\n",
      "You should probably TRAIN this model on a down-stream task to be able to use it for predictions and inference.\n"
     ]
    },
    {
     "name": "stdout",
     "output_type": "stream",
     "text": [
      "2022-05-12 17:07:49 - Use pytorch device: cuda\n"
     ]
    }
   ],
   "source": [
    "word_embedding_model = models.Transformer(model_name)\n",
    "\n",
    "# Apply mean pooling to get one fixed sized sentence vector\n",
    "pooling_model = models.Pooling(word_embedding_model.get_word_embedding_dimension(),\n",
    "                               pooling_mode_mean_tokens=True,\n",
    "                               pooling_mode_cls_token=False,\n",
    "                               pooling_mode_max_tokens=False)\n",
    "\n",
    "model = SentenceTransformer(modules=[word_embedding_model, pooling_model])"
   ]
  },
  {
   "cell_type": "code",
   "execution_count": 7,
   "id": "ff56975c-fcc6-4dad-a365-5a28ee8f5a5a",
   "metadata": {},
   "outputs": [
    {
     "name": "stdout",
     "output_type": "stream",
     "text": [
      "2022-05-12 17:07:49 - Read training dataset\n"
     ]
    }
   ],
   "source": [
    "train_generator = pd.read_json(train_file, lines=True, chunksize=1000, encoding='utf-8')\n",
    "\n",
    "# Convert the dataset to a DataLoader ready for training\n",
    "logging.info(\"Read training dataset\")\n",
    "\n",
    "train_samples = []\n",
    "dev_samples = []\n",
    "test_samples = []\n",
    "\n",
    "for train_data in train_generator:\n",
    "    for _index, row in train_data.iterrows():\n",
    "        for paragraph in row.answer_paragraphs:\n",
    "            inp_example = InputExample(texts=[row['question'], paragraph['paragraph_text']])\n",
    "\n",
    "        if _index < 5000:\n",
    "            dev_samples.append(inp_example)\n",
    "        elif _index < 10000:\n",
    "            test_samples.append(inp_example)\n",
    "        else:\n",
    "            train_samples.append(inp_example)\n",
    "\n",
    "train_dataloader = DataLoader(train_samples, shuffle=True, batch_size=train_batch_size)\n",
    "train_loss = losses.MultipleNegativesRankingLoss(model=model)"
   ]
  },
  {
   "cell_type": "code",
   "execution_count": 8,
   "id": "a49973db-8030-4b9a-bf71-8323df70256b",
   "metadata": {
    "tags": []
   },
   "outputs": [
    {
     "name": "stdout",
     "output_type": "stream",
     "text": [
      "2022-05-12 17:08:00 - Warmup-steps: 955\n"
     ]
    },
    {
     "name": "stderr",
     "output_type": "stream",
     "text": [
      "/root/miniconda3/lib/python3.8/site-packages/transformers/optimization.py:306: FutureWarning: This implementation of AdamW is deprecated and will be removed in a future version. Use the PyTorch implementation torch.optim.AdamW instead, or set `no_deprecation_warning=True` to disable this warning\n",
      "  warnings.warn(\n"
     ]
    },
    {
     "data": {
      "application/vnd.jupyter.widget-view+json": {
       "model_id": "661ae4f04a454ae98527e0ba81880f22",
       "version_major": 2,
       "version_minor": 0
      },
      "text/plain": [
       "Epoch:   0%|          | 0/1 [00:00<?, ?it/s]"
      ]
     },
     "metadata": {},
     "output_type": "display_data"
    },
    {
     "data": {
      "application/vnd.jupyter.widget-view+json": {
       "model_id": "aa8428aa71aa44e69bbc6fd91b371fe0",
       "version_major": 2,
       "version_minor": 0
      },
      "text/plain": [
       "Iteration:   0%|          | 0/9550 [00:00<?, ?it/s]"
      ]
     },
     "metadata": {},
     "output_type": "display_data"
    },
    {
     "name": "stdout",
     "output_type": "stream",
     "text": [
      "2022-05-12 17:12:20 - EmbeddingSimilarityEvaluator: Evaluating the model on dev dataset in epoch 0 after 1000 steps:\n"
     ]
    },
    {
     "name": "stderr",
     "output_type": "stream",
     "text": [
      "/root/miniconda3/lib/python3.8/site-packages/scipy/stats/_stats_py.py:4068: PearsonRConstantInputWarning: An input array is constant; the correlation coefficient is not defined.\n",
      "  warnings.warn(PearsonRConstantInputWarning())\n",
      "/root/miniconda3/lib/python3.8/site-packages/scipy/stats/_stats_py.py:4529: SpearmanRConstantInputWarning: An input array is constant; the correlation coefficient is not defined.\n",
      "  warnings.warn(SpearmanRConstantInputWarning())\n"
     ]
    },
    {
     "name": "stdout",
     "output_type": "stream",
     "text": [
      "2022-05-12 17:12:56 - Cosine-Similarity :\tPearson: nan\tSpearman: nan\n",
      "2022-05-12 17:12:56 - Manhattan-Distance:\tPearson: nan\tSpearman: nan\n",
      "2022-05-12 17:12:56 - Euclidean-Distance:\tPearson: nan\tSpearman: nan\n",
      "2022-05-12 17:12:56 - Dot-Product-Similarity:\tPearson: nan\tSpearman: nan\n",
      "2022-05-12 17:17:18 - EmbeddingSimilarityEvaluator: Evaluating the model on dev dataset in epoch 0 after 2000 steps:\n"
     ]
    },
    {
     "name": "stderr",
     "output_type": "stream",
     "text": [
      "/root/miniconda3/lib/python3.8/site-packages/scipy/stats/_stats_py.py:4068: PearsonRConstantInputWarning: An input array is constant; the correlation coefficient is not defined.\n",
      "  warnings.warn(PearsonRConstantInputWarning())\n",
      "/root/miniconda3/lib/python3.8/site-packages/scipy/stats/_stats_py.py:4529: SpearmanRConstantInputWarning: An input array is constant; the correlation coefficient is not defined.\n",
      "  warnings.warn(SpearmanRConstantInputWarning())\n"
     ]
    },
    {
     "name": "stdout",
     "output_type": "stream",
     "text": [
      "2022-05-12 17:17:53 - Cosine-Similarity :\tPearson: nan\tSpearman: nan\n",
      "2022-05-12 17:17:53 - Manhattan-Distance:\tPearson: nan\tSpearman: nan\n",
      "2022-05-12 17:17:53 - Euclidean-Distance:\tPearson: nan\tSpearman: nan\n",
      "2022-05-12 17:17:53 - Dot-Product-Similarity:\tPearson: nan\tSpearman: nan\n",
      "2022-05-12 17:22:11 - EmbeddingSimilarityEvaluator: Evaluating the model on dev dataset in epoch 0 after 3000 steps:\n"
     ]
    },
    {
     "name": "stderr",
     "output_type": "stream",
     "text": [
      "/root/miniconda3/lib/python3.8/site-packages/scipy/stats/_stats_py.py:4068: PearsonRConstantInputWarning: An input array is constant; the correlation coefficient is not defined.\n",
      "  warnings.warn(PearsonRConstantInputWarning())\n",
      "/root/miniconda3/lib/python3.8/site-packages/scipy/stats/_stats_py.py:4529: SpearmanRConstantInputWarning: An input array is constant; the correlation coefficient is not defined.\n",
      "  warnings.warn(SpearmanRConstantInputWarning())\n"
     ]
    },
    {
     "name": "stdout",
     "output_type": "stream",
     "text": [
      "2022-05-12 17:22:46 - Cosine-Similarity :\tPearson: nan\tSpearman: nan\n",
      "2022-05-12 17:22:46 - Manhattan-Distance:\tPearson: nan\tSpearman: nan\n",
      "2022-05-12 17:22:46 - Euclidean-Distance:\tPearson: nan\tSpearman: nan\n",
      "2022-05-12 17:22:46 - Dot-Product-Similarity:\tPearson: nan\tSpearman: nan\n",
      "2022-05-12 17:27:09 - EmbeddingSimilarityEvaluator: Evaluating the model on dev dataset in epoch 0 after 4000 steps:\n"
     ]
    },
    {
     "name": "stderr",
     "output_type": "stream",
     "text": [
      "/root/miniconda3/lib/python3.8/site-packages/scipy/stats/_stats_py.py:4068: PearsonRConstantInputWarning: An input array is constant; the correlation coefficient is not defined.\n",
      "  warnings.warn(PearsonRConstantInputWarning())\n",
      "/root/miniconda3/lib/python3.8/site-packages/scipy/stats/_stats_py.py:4529: SpearmanRConstantInputWarning: An input array is constant; the correlation coefficient is not defined.\n",
      "  warnings.warn(SpearmanRConstantInputWarning())\n"
     ]
    },
    {
     "name": "stdout",
     "output_type": "stream",
     "text": [
      "2022-05-12 17:27:45 - Cosine-Similarity :\tPearson: nan\tSpearman: nan\n",
      "2022-05-12 17:27:45 - Manhattan-Distance:\tPearson: nan\tSpearman: nan\n",
      "2022-05-12 17:27:45 - Euclidean-Distance:\tPearson: nan\tSpearman: nan\n",
      "2022-05-12 17:27:45 - Dot-Product-Similarity:\tPearson: nan\tSpearman: nan\n",
      "2022-05-12 17:32:04 - EmbeddingSimilarityEvaluator: Evaluating the model on dev dataset in epoch 0 after 5000 steps:\n"
     ]
    },
    {
     "name": "stderr",
     "output_type": "stream",
     "text": [
      "/root/miniconda3/lib/python3.8/site-packages/scipy/stats/_stats_py.py:4068: PearsonRConstantInputWarning: An input array is constant; the correlation coefficient is not defined.\n",
      "  warnings.warn(PearsonRConstantInputWarning())\n",
      "/root/miniconda3/lib/python3.8/site-packages/scipy/stats/_stats_py.py:4529: SpearmanRConstantInputWarning: An input array is constant; the correlation coefficient is not defined.\n",
      "  warnings.warn(SpearmanRConstantInputWarning())\n"
     ]
    },
    {
     "name": "stdout",
     "output_type": "stream",
     "text": [
      "2022-05-12 17:32:39 - Cosine-Similarity :\tPearson: nan\tSpearman: nan\n",
      "2022-05-12 17:32:39 - Manhattan-Distance:\tPearson: nan\tSpearman: nan\n",
      "2022-05-12 17:32:39 - Euclidean-Distance:\tPearson: nan\tSpearman: nan\n",
      "2022-05-12 17:32:39 - Dot-Product-Similarity:\tPearson: nan\tSpearman: nan\n",
      "2022-05-12 17:37:19 - EmbeddingSimilarityEvaluator: Evaluating the model on dev dataset in epoch 0 after 6000 steps:\n"
     ]
    },
    {
     "name": "stderr",
     "output_type": "stream",
     "text": [
      "/root/miniconda3/lib/python3.8/site-packages/scipy/stats/_stats_py.py:4068: PearsonRConstantInputWarning: An input array is constant; the correlation coefficient is not defined.\n",
      "  warnings.warn(PearsonRConstantInputWarning())\n",
      "/root/miniconda3/lib/python3.8/site-packages/scipy/stats/_stats_py.py:4529: SpearmanRConstantInputWarning: An input array is constant; the correlation coefficient is not defined.\n",
      "  warnings.warn(SpearmanRConstantInputWarning())\n"
     ]
    },
    {
     "name": "stdout",
     "output_type": "stream",
     "text": [
      "2022-05-12 17:38:27 - Cosine-Similarity :\tPearson: nan\tSpearman: nan\n",
      "2022-05-12 17:38:27 - Manhattan-Distance:\tPearson: nan\tSpearman: nan\n",
      "2022-05-12 17:38:27 - Euclidean-Distance:\tPearson: nan\tSpearman: nan\n",
      "2022-05-12 17:38:27 - Dot-Product-Similarity:\tPearson: nan\tSpearman: nan\n",
      "2022-05-12 17:43:15 - EmbeddingSimilarityEvaluator: Evaluating the model on dev dataset in epoch 0 after 7000 steps:\n"
     ]
    },
    {
     "name": "stderr",
     "output_type": "stream",
     "text": [
      "/root/miniconda3/lib/python3.8/site-packages/scipy/stats/_stats_py.py:4068: PearsonRConstantInputWarning: An input array is constant; the correlation coefficient is not defined.\n",
      "  warnings.warn(PearsonRConstantInputWarning())\n",
      "/root/miniconda3/lib/python3.8/site-packages/scipy/stats/_stats_py.py:4529: SpearmanRConstantInputWarning: An input array is constant; the correlation coefficient is not defined.\n",
      "  warnings.warn(SpearmanRConstantInputWarning())\n"
     ]
    },
    {
     "name": "stdout",
     "output_type": "stream",
     "text": [
      "2022-05-12 17:43:50 - Cosine-Similarity :\tPearson: nan\tSpearman: nan\n",
      "2022-05-12 17:43:50 - Manhattan-Distance:\tPearson: nan\tSpearman: nan\n",
      "2022-05-12 17:43:50 - Euclidean-Distance:\tPearson: nan\tSpearman: nan\n",
      "2022-05-12 17:43:50 - Dot-Product-Similarity:\tPearson: nan\tSpearman: nan\n",
      "2022-05-12 17:48:10 - EmbeddingSimilarityEvaluator: Evaluating the model on dev dataset in epoch 0 after 8000 steps:\n"
     ]
    },
    {
     "name": "stderr",
     "output_type": "stream",
     "text": [
      "/root/miniconda3/lib/python3.8/site-packages/scipy/stats/_stats_py.py:4068: PearsonRConstantInputWarning: An input array is constant; the correlation coefficient is not defined.\n",
      "  warnings.warn(PearsonRConstantInputWarning())\n",
      "/root/miniconda3/lib/python3.8/site-packages/scipy/stats/_stats_py.py:4529: SpearmanRConstantInputWarning: An input array is constant; the correlation coefficient is not defined.\n",
      "  warnings.warn(SpearmanRConstantInputWarning())\n"
     ]
    },
    {
     "name": "stdout",
     "output_type": "stream",
     "text": [
      "2022-05-12 17:48:45 - Cosine-Similarity :\tPearson: nan\tSpearman: nan\n",
      "2022-05-12 17:48:45 - Manhattan-Distance:\tPearson: nan\tSpearman: nan\n",
      "2022-05-12 17:48:45 - Euclidean-Distance:\tPearson: nan\tSpearman: nan\n",
      "2022-05-12 17:48:45 - Dot-Product-Similarity:\tPearson: nan\tSpearman: nan\n",
      "2022-05-12 17:53:04 - EmbeddingSimilarityEvaluator: Evaluating the model on dev dataset in epoch 0 after 9000 steps:\n"
     ]
    },
    {
     "name": "stderr",
     "output_type": "stream",
     "text": [
      "/root/miniconda3/lib/python3.8/site-packages/scipy/stats/_stats_py.py:4068: PearsonRConstantInputWarning: An input array is constant; the correlation coefficient is not defined.\n",
      "  warnings.warn(PearsonRConstantInputWarning())\n",
      "/root/miniconda3/lib/python3.8/site-packages/scipy/stats/_stats_py.py:4529: SpearmanRConstantInputWarning: An input array is constant; the correlation coefficient is not defined.\n",
      "  warnings.warn(SpearmanRConstantInputWarning())\n"
     ]
    },
    {
     "name": "stdout",
     "output_type": "stream",
     "text": [
      "2022-05-12 17:53:40 - Cosine-Similarity :\tPearson: nan\tSpearman: nan\n",
      "2022-05-12 17:53:40 - Manhattan-Distance:\tPearson: nan\tSpearman: nan\n",
      "2022-05-12 17:53:40 - Euclidean-Distance:\tPearson: nan\tSpearman: nan\n",
      "2022-05-12 17:53:40 - Dot-Product-Similarity:\tPearson: nan\tSpearman: nan\n",
      "2022-05-12 17:56:02 - EmbeddingSimilarityEvaluator: Evaluating the model on dev dataset after epoch 0:\n",
      "2022-05-12 17:56:37 - Cosine-Similarity :\tPearson: nan\tSpearman: nan\n",
      "2022-05-12 17:56:37 - Manhattan-Distance:\tPearson: nan\tSpearman: nan\n",
      "2022-05-12 17:56:37 - Euclidean-Distance:\tPearson: nan\tSpearman: nan\n",
      "2022-05-12 17:56:37 - Dot-Product-Similarity:\tPearson: nan\tSpearman: nan\n"
     ]
    },
    {
     "name": "stderr",
     "output_type": "stream",
     "text": [
      "/root/miniconda3/lib/python3.8/site-packages/scipy/stats/_stats_py.py:4068: PearsonRConstantInputWarning: An input array is constant; the correlation coefficient is not defined.\n",
      "  warnings.warn(PearsonRConstantInputWarning())\n",
      "/root/miniconda3/lib/python3.8/site-packages/scipy/stats/_stats_py.py:4529: SpearmanRConstantInputWarning: An input array is constant; the correlation coefficient is not defined.\n",
      "  warnings.warn(SpearmanRConstantInputWarning())\n"
     ]
    }
   ],
   "source": [
    "# Development set: Measure correlation between cosine score and gold labels\n",
    "evaluator = TripletEvaluator.from_input_examples(dev_samples, name='dev')\n",
    "\n",
    "# Configure the training. We skip evaluation in this example\n",
    "warmup_steps = math.ceil(len(train_dataloader) * num_epochs * 0.1) #10% of train data for warm-up\n",
    "logging.info(\"Warmup-steps: {}\".format(warmup_steps))\n",
    "\n",
    "# Train the model\n",
    "model.fit(train_objectives=[(train_dataloader, train_loss)],\n",
    "          evaluator=evaluator,\n",
    "          epochs=num_epochs,\n",
    "          evaluation_steps=1000,\n",
    "          warmup_steps=warmup_steps,\n",
    "          output_path=model_save_path)"
   ]
  },
  {
   "cell_type": "code",
   "execution_count": 13,
   "id": "a671f62d-60f7-4902-9750-0520f3be58e7",
   "metadata": {},
   "outputs": [
    {
     "name": "stdout",
     "output_type": "stream",
     "text": [
      "2022-05-12 18:01:24 - Save model to output/bi-encoder-chinese-roberta-wwm-ext-2022-05-12_18-01-19\n"
     ]
    }
   ],
   "source": [
    "model.save(model_save_path)"
   ]
  },
  {
   "cell_type": "code",
   "execution_count": 16,
   "id": "8b84af0d-9a7d-43b3-a30a-ceeeff2b57be",
   "metadata": {},
   "outputs": [
    {
     "name": "stdout",
     "output_type": "stream",
     "text": [
      "2022-05-12 18:06:03 - Load pretrained SentenceTransformer: output/bi-encoder-chinese-roberta-wwm-ext-2022-05-12_18-01-19\n",
      "2022-05-12 18:06:04 - Use pytorch device: cuda\n",
      "2022-05-12 18:06:04 - EmbeddingSimilarityEvaluator: Evaluating the model on test dataset:\n",
      "2022-05-12 18:07:11 - Cosine-Similarity :\tPearson: nan\tSpearman: nan\n",
      "2022-05-12 18:07:11 - Manhattan-Distance:\tPearson: nan\tSpearman: nan\n",
      "2022-05-12 18:07:11 - Euclidean-Distance:\tPearson: nan\tSpearman: nan\n",
      "2022-05-12 18:07:11 - Dot-Product-Similarity:\tPearson: nan\tSpearman: nan\n"
     ]
    },
    {
     "name": "stderr",
     "output_type": "stream",
     "text": [
      "/root/miniconda3/lib/python3.8/site-packages/scipy/stats/_stats_py.py:4068: PearsonRConstantInputWarning: An input array is constant; the correlation coefficient is not defined.\n",
      "  warnings.warn(PearsonRConstantInputWarning())\n",
      "/root/miniconda3/lib/python3.8/site-packages/scipy/stats/_stats_py.py:4529: SpearmanRConstantInputWarning: An input array is constant; the correlation coefficient is not defined.\n",
      "  warnings.warn(SpearmanRConstantInputWarning())\n"
     ]
    },
    {
     "data": {
      "text/plain": [
       "nan"
      ]
     },
     "execution_count": 16,
     "metadata": {},
     "output_type": "execute_result"
    }
   ],
   "source": [
    "model = SentenceTransformer(model_save_path)\n",
    "test_evaluator = EmbeddingSimilarityEvaluator.from_input_examples(test_samples, name='test')\n",
    "test_evaluator(model, output_path=model_save_path)"
   ]
  },
  {
   "cell_type": "code",
   "execution_count": null,
   "id": "359080ef-746d-4881-b662-7d230f2789db",
   "metadata": {},
   "outputs": [],
   "source": []
  }
 ],
 "metadata": {
  "kernelspec": {
   "display_name": "Python 3 (ipykernel)",
   "language": "python",
   "name": "python3"
  },
  "language_info": {
   "codemirror_mode": {
    "name": "ipython",
    "version": 3
   },
   "file_extension": ".py",
   "mimetype": "text/x-python",
   "name": "python",
   "nbconvert_exporter": "python",
   "pygments_lexer": "ipython3",
   "version": "3.8.10"
  }
 },
 "nbformat": 4,
 "nbformat_minor": 5
}
