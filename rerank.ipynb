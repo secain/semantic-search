{
 "cells": [
  {
   "cell_type": "code",
   "execution_count": 1,
   "id": "247a5277-8eaa-45aa-8775-9124f13d4db8",
   "metadata": {},
   "outputs": [],
   "source": [
    "from sentence_transformers import CrossEncoder\n",
    "import pickle\n",
    "import json\n",
    "import os\n",
    "\n",
    "model_name = './output/cross-encoder_hlf-rbtl3-2022-06-11'"
   ]
  },
  {
   "cell_type": "code",
   "execution_count": 2,
   "id": "5693e5a8-bf7c-470c-833e-dc52771a6831",
   "metadata": {},
   "outputs": [],
   "source": [
    "## Load our cross-encoder. Use fast tokenizer to speed up the tokenization\n",
    "model = CrossEncoder(model_name)"
   ]
  },
  {
   "cell_type": "code",
   "execution_count": 3,
   "id": "e2a9f057-84ce-4af0-85b6-e20268c881cd",
   "metadata": {},
   "outputs": [],
   "source": [
    "with open('results_for_cross.pkl', \"rb\") as f:\n",
    "    results_for_cross = pickle.load(f)"
   ]
  },
  {
   "cell_type": "code",
   "execution_count": 4,
   "id": "6bcf97b3-3077-4b48-98d8-c5e0fa61ab7c",
   "metadata": {},
   "outputs": [],
   "source": [
    "with open('recall_results.json', 'r', encoding='utf-8') as f:\n",
    "    recall_results = json.load(f)"
   ]
  },
  {
   "cell_type": "code",
   "execution_count": null,
   "id": "a44f98e8-f099-49b6-8083-80454ff6a2b2",
   "metadata": {},
   "outputs": [],
   "source": []
  },
  {
   "cell_type": "code",
   "execution_count": 8,
   "id": "8a56dd31-3468-4d0d-84d2-23e7cbbcd5d6",
   "metadata": {},
   "outputs": [
    {
     "name": "stdout",
     "output_type": "stream",
     "text": [
      "CPU times: user 54min 25s, sys: 1min 52s, total: 56min 18s\n",
      "Wall time: 24min 43s\n"
     ]
    }
   ],
   "source": [
    "%%time\n",
    "rerank_results = {}\n",
    "for question, passages, question_id, passages_ids in zip(results_for_cross.keys(), results_for_cross.values(), recall_results.keys(), recall_results.values()):\n",
    "    model_inputs = [[question, passage[:256]] for passage in passages]\n",
    "    scores = model.predict(model_inputs)\n",
    "\n",
    "    #Sort the scores in decreasing order\n",
    "    results = [{'score': score, 'id': passages_id} for score, passages_id in zip(scores, passages_ids)]\n",
    "    results = sorted(results, key=lambda x: x['score'], reverse=True)\n",
    "    \n",
    "    results_ids = []\n",
    "    for hit in results:\n",
    "        results_ids.append(hit['id'])\n",
    "    rerank_results[question_id] = results_ids"
   ]
  },
  {
   "cell_type": "code",
   "execution_count": 9,
   "id": "947ed261-eb4f-4a8d-8140-80127e4d456f",
   "metadata": {},
   "outputs": [],
   "source": [
    "with open('rerank_results.json', 'w', encoding='utf-8') as f:\n",
    "    json.dump(rerank_results, f, ensure_ascii=False, indent='\\t')"
   ]
  },
  {
   "cell_type": "code",
   "execution_count": 10,
   "id": "df29ab6a-4cf6-4233-9345-7d0fdaadb237",
   "metadata": {},
   "outputs": [
    {
     "data": {
      "text/plain": [
       "25000"
      ]
     },
     "execution_count": 10,
     "metadata": {},
     "output_type": "execute_result"
    }
   ],
   "source": [
    "len(rerank_results)"
   ]
  },
  {
   "cell_type": "code",
   "execution_count": null,
   "id": "e24e414d-d4d3-414e-b513-f318e7e2705c",
   "metadata": {},
   "outputs": [],
   "source": [
    "#Search in a loop for the individual queries\n",
    "for query in queries:\n",
    "    start_time = time.time()\n",
    "\n",
    "    #Concatenate the query and all passages and predict the scores for the pairs [query, passage]\n",
    "    model_inputs = [[query, passage] for passage in passages]\n",
    "    scores = model.predict(model_inputs)\n",
    "\n",
    "    #Sort the scores in decreasing order\n",
    "    results = [{'input': inp, 'score': score} for inp, score in zip(model_inputs, scores)]\n",
    "    results = sorted(results, key=lambda x: x['score'], reverse=True)\n",
    "\n",
    "    print(\"Query:\", query)\n",
    "    print(\"Search took {:.2f} seconds\".format(time.time() - start_time))\n",
    "    for hit in results[0:5]:\n",
    "        print(\"Score: {:.2f}\".format(hit['score']), \"\\t\", hit['input'][1])\n",
    "\n",
    "\n",
    "    print(\"==========\")"
   ]
  }
 ],
 "metadata": {
  "kernelspec": {
   "display_name": "Python 3 (ipykernel)",
   "language": "python",
   "name": "python3"
  },
  "language_info": {
   "codemirror_mode": {
    "name": "ipython",
    "version": 3
   },
   "file_extension": ".py",
   "mimetype": "text/x-python",
   "name": "python",
   "nbconvert_exporter": "python",
   "pygments_lexer": "ipython3",
   "version": "3.8.10"
  }
 },
 "nbformat": 4,
 "nbformat_minor": 5
}
