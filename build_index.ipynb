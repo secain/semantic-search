{
 "cells": [
  {
   "cell_type": "code",
   "execution_count": 1,
   "id": "c107c52d-8fa1-4599-a250-4cbc18418e2c",
   "metadata": {},
   "outputs": [],
   "source": [
    "from sentence_transformers import SentenceTransformer, models, util\n",
    "import pandas as pd\n",
    "import numpy as np\n",
    "import torch\n",
    "import os\n",
    "import json\n",
    "import pickle\n",
    "import time\n",
    "import faiss\n",
    "\n",
    "model_name = './output/bi-encoder-sup_hlf-rbtl3-2022-06-09'\n",
    "dataset_path = './dureader/passage-collection/'\n",
    "\n",
    "embedding_cache_path = 'embeddings-hfl-rbtl3.pkl'\n",
    "embedding_size = 1024    #Size of embeddings\n",
    "top_k_hits = 50         #Output k hits"
   ]
  },
  {
   "cell_type": "code",
   "execution_count": 2,
   "id": "0c730285-78cf-4dfe-925d-10a1658c4753",
   "metadata": {},
   "outputs": [],
   "source": [
    "model = SentenceTransformer(model_name)"
   ]
  },
  {
   "cell_type": "code",
   "execution_count": 3,
   "id": "cb32b90d-eb9a-49e2-8ca4-b812f103d30b",
   "metadata": {},
   "outputs": [
    {
     "name": "stdout",
     "output_type": "stream",
     "text": [
      "corpus_sentences:  8096668\n",
      "CPU times: user 25.1 s, sys: 4.53 s, total: 29.6 s\n",
      "Wall time: 29.6 s\n"
     ]
    }
   ],
   "source": [
    "%%time\n",
    "corpus_sentences = []\n",
    "for part in ['part-00', 'part-01', 'part-02', 'part-03']:\n",
    "    with open(dataset_path + part, 'r', encoding='utf-8') as f:\n",
    "        for line in f.readlines():\n",
    "            data = line.rstrip().split('\\t')\n",
    "            corpus_sentences.append(data[2][:256])\n",
    "    \n",
    "print('corpus_sentences: ', len(corpus_sentences))"
   ]
  },
  {
   "cell_type": "code",
   "execution_count": 4,
   "id": "6c949999-3d4f-4bb2-a69f-7bb23c87eac7",
   "metadata": {},
   "outputs": [
    {
     "name": "stdout",
     "output_type": "stream",
     "text": [
      "Encode the corpus. This might take a while\n",
      "Store file on disc\n"
     ]
    }
   ],
   "source": [
    "print(\"Encode the corpus. This might take a while\")\n",
    "pool = model.start_multi_process_pool()\n",
    "corpus_embeddings = model.encode_multi_process(corpus_sentences, batch_size=128, pool=pool)\n",
    "\n",
    "print(\"Store file on disc\")\n",
    "with open(embedding_cache_path, \"wb\") as fOut:\n",
    "    pickle.dump({'sentences': corpus_sentences, 'embeddings': corpus_embeddings}, fOut)"
   ]
  },
  {
   "cell_type": "code",
   "execution_count": 2,
   "id": "826eec3a-e692-4c4b-a054-cff66e927576",
   "metadata": {},
   "outputs": [
    {
     "name": "stdout",
     "output_type": "stream",
     "text": [
      "Load pre-computed embeddings from disc\n"
     ]
    }
   ],
   "source": [
    "print(\"Load pre-computed embeddings from disc\")\n",
    "with open(embedding_cache_path, \"rb\") as fIn:\n",
    "    cache_data = pickle.load(fIn)\n",
    "    corpus_sentences = cache_data['sentences']\n",
    "    corpus_embeddings = cache_data['embeddings']\n",
    "del cache_data\n",
    "del corpus_sentences"
   ]
  },
  {
   "cell_type": "code",
   "execution_count": 3,
   "id": "48c45680-f21b-4d85-b258-d386d4cfc6f4",
   "metadata": {},
   "outputs": [
    {
     "name": "stdout",
     "output_type": "stream",
     "text": [
      "Start creating FAISS index\n"
     ]
    }
   ],
   "source": [
    "### Create the FAISS index\n",
    "print(\"Start creating FAISS index\")\n",
    "\n",
    "index= faiss.IndexFlatIP(embedding_size)\n",
    "\n",
    "# First, we need to normalize vectors to unit length\n",
    "corpus_embeddings = corpus_embeddings / np.linalg.norm(corpus_embeddings, axis=1)[:, None]\n",
    "\n",
    "# Finally we add all embeddings to the index\n",
    "index.add(corpus_embeddings)"
   ]
  },
  {
   "cell_type": "code",
   "execution_count": 4,
   "id": "a7b5a508-72b7-4e5d-993a-53c9fe033f30",
   "metadata": {},
   "outputs": [],
   "source": [
    "faiss.write_index(index, 'faiss.index') "
   ]
  },
  {
   "cell_type": "code",
   "execution_count": null,
   "id": "7241eae4-b20f-49f2-9052-cedf1dff06e4",
   "metadata": {},
   "outputs": [],
   "source": [
    "os.system(\"shutdown\")"
   ]
  },
  {
   "cell_type": "code",
   "execution_count": null,
   "id": "7b056574-8aab-4c3c-8247-21eb62af310b",
   "metadata": {},
   "outputs": [],
   "source": []
  }
 ],
 "metadata": {
  "kernelspec": {
   "display_name": "Python 3 (ipykernel)",
   "language": "python",
   "name": "python3"
  },
  "language_info": {
   "codemirror_mode": {
    "name": "ipython",
    "version": 3
   },
   "file_extension": ".py",
   "mimetype": "text/x-python",
   "name": "python",
   "nbconvert_exporter": "python",
   "pygments_lexer": "ipython3",
   "version": "3.8.10"
  }
 },
 "nbformat": 4,
 "nbformat_minor": 5
}
