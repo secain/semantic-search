{
 "cells": [
  {
   "cell_type": "code",
   "execution_count": 1,
   "id": "af5a6b49-7f9c-4824-af1c-efee9e26abd2",
   "metadata": {},
   "outputs": [],
   "source": [
    "\"\"\"\n",
    "This examples trains a CrossEncoder for the NLI task. A CrossEncoder takes a sentence pair\n",
    "as input and outputs a label. Here, it learns to predict the labels: \"contradiction\": 0, \"entailment\": 1, \"neutral\": 2.\n",
    "\n",
    "It does NOT produce a sentence embedding and does NOT work for individual sentences.\n",
    "\n",
    "Usage:\n",
    "python training_nli.py\n",
    "\"\"\"\n",
    "from torch.utils.data import DataLoader\n",
    "import math\n",
    "from sentence_transformers import LoggingHandler, util\n",
    "from sentence_transformers.cross_encoder import CrossEncoder\n",
    "from sentence_transformers.cross_encoder.evaluation import CEBinaryAccuracyEvaluator, CEBinaryClassificationEvaluator\n",
    "from sentence_transformers.readers import InputExample\n",
    "import logging\n",
    "from datetime import datetime\n",
    "import os\n",
    "import gzip\n",
    "import csv\n",
    "\n",
    "#### Just some code to print debug information to stdout\n",
    "logging.basicConfig(format='%(asctime)s - %(message)s',\n",
    "                    datefmt='%Y-%m-%d %H:%M:%S',\n",
    "                    level=logging.INFO,\n",
    "                    handlers=[LoggingHandler()])\n",
    "logger = logging.getLogger(__name__)\n",
    "#### /print debug information to stdout\n",
    "\n",
    "data_path = './dureader/train/cross.train.tsv'\n",
    "model_name = 'output/cross-encoder_hlf-rbtl3-2022-06-11'\n",
    "\n",
    "train_batch_size = 64\n",
    "num_epochs = 6\n",
    "model_save_path = 'output/cross-encoder_hlf-rbtl3'+'-'+datetime.now().strftime(\"%Y-%m-%d\")"
   ]
  },
  {
   "cell_type": "code",
   "execution_count": 2,
   "id": "543ae2cd-501e-4b84-bf28-a5f069284506",
   "metadata": {},
   "outputs": [
    {
     "name": "stdout",
     "output_type": "stream",
     "text": [
      "2022-06-11 02:56:31 - Use pytorch device: cuda\n"
     ]
    }
   ],
   "source": [
    "model = CrossEncoder(model_name)"
   ]
  },
  {
   "cell_type": "code",
   "execution_count": 3,
   "id": "0ba0c486-949c-4c06-960a-47c7a3eea1ce",
   "metadata": {},
   "outputs": [],
   "source": [
    "train_samples = []\n",
    "with open(data_path, 'r', encoding='utf-8') as f:\n",
    "    for line in f.readlines():\n",
    "        data = line.rstrip().split('\\t')\n",
    "        inp_example = InputExample(texts=[data[0][:256], data[2][:256]], label=float(data[3]))\n",
    "        train_samples.append(inp_example)"
   ]
  },
  {
   "cell_type": "code",
   "execution_count": 4,
   "id": "f830fb12-7748-407b-9094-00a6666d1dcb",
   "metadata": {},
   "outputs": [
    {
     "name": "stdout",
     "output_type": "stream",
     "text": [
      "Train sentences: 1089846\n",
      "Dev sentences: 11009\n",
      "Test sentences: 11120\n"
     ]
    }
   ],
   "source": [
    "from sklearn.model_selection import train_test_split\n",
    "\n",
    "train_samples, test_samples = train_test_split(train_samples, test_size=0.01, random_state=13)\n",
    "train_samples, dev_samples = train_test_split(train_samples, test_size=0.01, random_state=13)\n",
    "\n",
    "print(\"Train sentences:\", len(train_samples))\n",
    "print(\"Dev sentences:\", len(dev_samples))\n",
    "print(\"Test sentences:\", len(test_samples))"
   ]
  },
  {
   "cell_type": "code",
   "execution_count": 5,
   "id": "46247f07-da2b-42a7-bf93-082dae93e2d6",
   "metadata": {},
   "outputs": [
    {
     "name": "stdout",
     "output_type": "stream",
     "text": [
      "2022-06-11 02:56:40 - Warmup-steps: 5109\n"
     ]
    }
   ],
   "source": [
    "#We wrap train_samples, which is a list ot InputExample, in a pytorch DataLoader\n",
    "train_dataloader = DataLoader(train_samples, shuffle=True, batch_size=train_batch_size)\n",
    "\n",
    "#During training, we use CESoftmaxAccuracyEvaluator to measure the accuracy on the dev set.\n",
    "evaluator = CEBinaryAccuracyEvaluator.from_input_examples(dev_samples, name='dev')\n",
    "\n",
    "warmup_steps = math.ceil(len(train_dataloader) * num_epochs * 0.05) #10% of train data for warm-up\n",
    "logger.info(\"Warmup-steps: {}\".format(warmup_steps))"
   ]
  },
  {
   "cell_type": "code",
   "execution_count": null,
   "id": "d61f3e5f-192e-4698-964f-0826ab130b5d",
   "metadata": {},
   "outputs": [
    {
     "name": "stderr",
     "output_type": "stream",
     "text": [
      "/root/miniconda3/lib/python3.8/site-packages/transformers/optimization.py:306: FutureWarning: This implementation of AdamW is deprecated and will be removed in a future version. Use the PyTorch implementation torch.optim.AdamW instead, or set `no_deprecation_warning=True` to disable this warning\n",
      "  warnings.warn(\n"
     ]
    },
    {
     "data": {
      "application/vnd.jupyter.widget-view+json": {
       "model_id": "6ad8161395c1466aa63d065eb338b104",
       "version_major": 2,
       "version_minor": 0
      },
      "text/plain": [
       "Epoch:   0%|          | 0/6 [00:00<?, ?it/s]"
      ]
     },
     "metadata": {},
     "output_type": "display_data"
    },
    {
     "data": {
      "application/vnd.jupyter.widget-view+json": {
       "model_id": "b1bc3bde204641b4b663a16f7a8f09ec",
       "version_major": 2,
       "version_minor": 0
      },
      "text/plain": [
       "Iteration:   0%|          | 0/17029 [00:00<?, ?it/s]"
      ]
     },
     "metadata": {},
     "output_type": "display_data"
    },
    {
     "name": "stderr",
     "output_type": "stream",
     "text": [
      "Asking to truncate to max_length but no maximum length is provided and the model has no predefined maximum length. Default to no truncation.\n",
      "/root/miniconda3/lib/python3.8/site-packages/sentence_transformers/cross_encoder/CrossEncoder.py:198: FutureWarning: Non-finite norm encountered in torch.nn.utils.clip_grad_norm_; continuing anyway. Note that the default behavior will change in a future release to error out if a non-finite total norm is encountered. At that point, setting error_if_nonfinite=false will be required to retain the old behavior.\n",
      "  torch.nn.utils.clip_grad_norm_(self.model.parameters(), max_grad_norm)\n"
     ]
    },
    {
     "name": "stdout",
     "output_type": "stream",
     "text": [
      "2022-06-11 03:22:47 - CEBinaryAccuracyEvaluator: Evaluating the model on dev dataset in epoch 0 after 10000 steps:\n",
      "2022-06-11 03:22:59 - Accuracy: 83.75\n",
      "2022-06-11 03:22:59 - Save model to output/cross-encoder_hlf-rbtl3-2022-06-11\n",
      "2022-06-11 03:41:23 - CEBinaryAccuracyEvaluator: Evaluating the model on dev dataset after epoch 0:\n",
      "2022-06-11 03:41:35 - Accuracy: 83.60\n"
     ]
    },
    {
     "data": {
      "application/vnd.jupyter.widget-view+json": {
       "model_id": "9fa1f76234024992afc374126a7104fd",
       "version_major": 2,
       "version_minor": 0
      },
      "text/plain": [
       "Iteration:   0%|          | 0/17029 [00:00<?, ?it/s]"
      ]
     },
     "metadata": {},
     "output_type": "display_data"
    },
    {
     "name": "stdout",
     "output_type": "stream",
     "text": [
      "2022-06-11 04:07:45 - CEBinaryAccuracyEvaluator: Evaluating the model on dev dataset in epoch 1 after 10000 steps:\n",
      "2022-06-11 04:07:59 - Accuracy: 83.30\n",
      "2022-06-11 04:26:19 - CEBinaryAccuracyEvaluator: Evaluating the model on dev dataset after epoch 1:\n",
      "2022-06-11 04:26:31 - Accuracy: 83.68\n"
     ]
    },
    {
     "data": {
      "application/vnd.jupyter.widget-view+json": {
       "model_id": "6f99128fb03f47298ba5a73f08f13e15",
       "version_major": 2,
       "version_minor": 0
      },
      "text/plain": [
       "Iteration:   0%|          | 0/17029 [00:00<?, ?it/s]"
      ]
     },
     "metadata": {},
     "output_type": "display_data"
    },
    {
     "name": "stdout",
     "output_type": "stream",
     "text": [
      "2022-06-11 04:52:57 - CEBinaryAccuracyEvaluator: Evaluating the model on dev dataset in epoch 2 after 10000 steps:\n",
      "2022-06-11 04:53:09 - Accuracy: 83.26\n",
      "2022-06-11 05:11:48 - CEBinaryAccuracyEvaluator: Evaluating the model on dev dataset after epoch 2:\n",
      "2022-06-11 05:12:00 - Accuracy: 83.60\n"
     ]
    },
    {
     "data": {
      "application/vnd.jupyter.widget-view+json": {
       "model_id": "60d539d7717544f5b9fd16fb78f789c3",
       "version_major": 2,
       "version_minor": 0
      },
      "text/plain": [
       "Iteration:   0%|          | 0/17029 [00:00<?, ?it/s]"
      ]
     },
     "metadata": {},
     "output_type": "display_data"
    },
    {
     "name": "stdout",
     "output_type": "stream",
     "text": [
      "2022-06-11 05:38:15 - CEBinaryAccuracyEvaluator: Evaluating the model on dev dataset in epoch 3 after 10000 steps:\n",
      "2022-06-11 05:38:27 - Accuracy: 83.36\n",
      "2022-06-11 05:56:38 - CEBinaryAccuracyEvaluator: Evaluating the model on dev dataset after epoch 3:\n",
      "2022-06-11 05:56:50 - Accuracy: 83.74\n"
     ]
    },
    {
     "data": {
      "application/vnd.jupyter.widget-view+json": {
       "model_id": "3414aedbe2b745a69a2c4c84636ad9a8",
       "version_major": 2,
       "version_minor": 0
      },
      "text/plain": [
       "Iteration:   0%|          | 0/17029 [00:00<?, ?it/s]"
      ]
     },
     "metadata": {},
     "output_type": "display_data"
    },
    {
     "name": "stdout",
     "output_type": "stream",
     "text": [
      "2022-06-11 06:22:44 - CEBinaryAccuracyEvaluator: Evaluating the model on dev dataset in epoch 4 after 10000 steps:\n",
      "2022-06-11 06:22:56 - Accuracy: 83.75\n",
      "2022-06-11 06:41:07 - CEBinaryAccuracyEvaluator: Evaluating the model on dev dataset after epoch 4:\n",
      "2022-06-11 06:41:19 - Accuracy: 83.84\n",
      "2022-06-11 06:41:19 - Save model to output/cross-encoder_hlf-rbtl3-2022-06-11\n"
     ]
    },
    {
     "data": {
      "application/vnd.jupyter.widget-view+json": {
       "model_id": "e7ad9726a115477e8dccf8cae79755b8",
       "version_major": 2,
       "version_minor": 0
      },
      "text/plain": [
       "Iteration:   0%|          | 0/17029 [00:00<?, ?it/s]"
      ]
     },
     "metadata": {},
     "output_type": "display_data"
    },
    {
     "name": "stdout",
     "output_type": "stream",
     "text": [
      "2022-06-11 07:07:10 - CEBinaryAccuracyEvaluator: Evaluating the model on dev dataset in epoch 5 after 10000 steps:\n",
      "2022-06-11 07:07:22 - Accuracy: 83.75\n"
     ]
    }
   ],
   "source": [
    "# Train the model\n",
    "model.fit(train_dataloader=train_dataloader,\n",
    "          optimizer_params={'lr': 3e-05}, \n",
    "          evaluator=evaluator,\n",
    "          epochs=num_epochs,\n",
    "          evaluation_steps=10000,\n",
    "          warmup_steps=warmup_steps,\n",
    "          output_path=model_save_path, \n",
    "          use_amp=True)\n",
    "\n",
    "model.save(model_save_path)"
   ]
  },
  {
   "cell_type": "code",
   "execution_count": null,
   "id": "e021ee8a-7cbe-456e-9774-6780420c94eb",
   "metadata": {},
   "outputs": [],
   "source": [
    "test_evaluator1 = CEBinaryAccuracyEvaluator.from_input_examples(test_samples, name='test1')\n",
    "test_evaluator2 = CEBinaryClassificationEvaluator.from_input_examples(test_samples, name='test2')\n",
    "test_evaluator1(model, output_path=model_save_path)\n",
    "test_evaluator2(model, output_path=model_save_path)"
   ]
  },
  {
   "cell_type": "code",
   "execution_count": null,
   "id": "df9c9269-b3ec-4bcb-a1e8-746506514b85",
   "metadata": {},
   "outputs": [],
   "source": [
    "os.system(\"shutdown\")"
   ]
  },
  {
   "cell_type": "code",
   "execution_count": null,
   "id": "4e2a0225-e392-4ee9-9a95-dc0123496823",
   "metadata": {},
   "outputs": [],
   "source": []
  }
 ],
 "metadata": {
  "kernelspec": {
   "display_name": "Python 3 (ipykernel)",
   "language": "python",
   "name": "python3"
  },
  "language_info": {
   "codemirror_mode": {
    "name": "ipython",
    "version": 3
   },
   "file_extension": ".py",
   "mimetype": "text/x-python",
   "name": "python",
   "nbconvert_exporter": "python",
   "pygments_lexer": "ipython3",
   "version": "3.8.10"
  }
 },
 "nbformat": 4,
 "nbformat_minor": 5
}
